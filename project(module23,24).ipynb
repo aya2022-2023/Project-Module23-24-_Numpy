{
 "cells": [
  {
   "cell_type": "code",
   "execution_count": 2,
   "id": "f6cd7269",
   "metadata": {},
   "outputs": [
    {
     "name": "stdout",
     "output_type": "stream",
     "text": [
      "[[0. 0. 0. 0.]\n",
      " [0. 0. 0. 0.]\n",
      " [0. 0. 0. 0.]]\n"
     ]
    }
   ],
   "source": [
    "import numpy as np\n",
    "#PROBLEM1\n",
    "\n",
    "arr = np.zeros((3,4))\n",
    "print(arr)"
   ]
  },
  {
   "cell_type": "code",
   "execution_count": 5,
   "id": "a105f3a3",
   "metadata": {},
   "outputs": [
    {
     "name": "stdout",
     "output_type": "stream",
     "text": [
      "The defined array is \n",
      "[[[21 27 29 40 40]\n",
      "  [10 14 39 39 44]\n",
      "  [34 36 23 25 33]]\n",
      "\n",
      " [[14 41 17 13 42]\n",
      "  [10 37 32 36 29]\n",
      "  [44 37 29 27 35]]]\n",
      " \n",
      " The shape of the array is (2, 3, 5)\n"
     ]
    }
   ],
   "source": [
    "#problem2\n",
    "\n",
    "random_array = np.array(np.random.randint(10,45,(2,3,5)))\n",
    "print(f\"The defined array is \\n{random_array}\")\n",
    "print(f\" \\n The shape of the array is {random_array.shape}\")"
   ]
  },
  {
   "cell_type": "code",
   "execution_count": 10,
   "id": "0641d9eb",
   "metadata": {},
   "outputs": [
    {
     "name": "stdout",
     "output_type": "stream",
     "text": [
      "Array 1 is: \n",
      "[[[12 13 15 17 19]\n",
      "  [17 14 17 16 10]\n",
      "  [19 19 13 20 11]]\n",
      "\n",
      " [[11 14 16 16 10]\n",
      "  [12 13 19 12 17]\n",
      "  [13 18 13 10 15]]]\n",
      " \n",
      " The shape of the array is (2, 3, 5)\n",
      "Array 1 is: \n",
      "[[[20 18 11 18 16]\n",
      "  [19 11 11 18 17]\n",
      "  [15 11 11 20 11]]]\n",
      " \n",
      " The shape of the array is (1, 3, 5)\n"
     ]
    }
   ],
   "source": [
    "#PROBLEM3\n",
    "\n",
    "array1 = np.array(np.random.randint(10,21,(2,3,5)))\n",
    "print(f\"Array 1 is: \\n{array1}\")\n",
    "print(f\" \\n The shape of the array is {array1.shape}\")\n",
    "\n",
    "\n",
    "array2 = np.array(np.random.randint(10,21,(1,3,5)))\n",
    "print(f\"Array 1 is: \\n{array2}\")\n",
    "print(f\" \\n The shape of the array is {array2.shape}\")"
   ]
  },
  {
   "cell_type": "code",
   "execution_count": 16,
   "id": "49cb4bfa",
   "metadata": {},
   "outputs": [
    {
     "data": {
      "text/plain": [
       "array([[[240, 234, 165, 306, 304],\n",
       "        [323, 154, 187, 288, 170],\n",
       "        [285, 209, 143, 400, 121]],\n",
       "\n",
       "       [[220, 252, 176, 288, 160],\n",
       "        [228, 143, 209, 216, 289],\n",
       "        [195, 198, 143, 200, 165]]])"
      ]
     },
     "execution_count": 16,
     "metadata": {},
     "output_type": "execute_result"
    }
   ],
   "source": [
    "#PROBLEM4\n",
    "array_mult=np.multiply(array1,array2)\n",
    "array_mult"
   ]
  },
  {
   "cell_type": "code",
   "execution_count": 14,
   "id": "143a5ca6",
   "metadata": {},
   "outputs": [
    {
     "name": "stdout",
     "output_type": "stream",
     "text": [
      "[[240 154 143 288 121]\n",
      " [195 143 143 200 160]]\n"
     ]
    }
   ],
   "source": [
    "print(np.min(array_mult,axis=1))"
   ]
  },
  {
   "cell_type": "code",
   "execution_count": 17,
   "id": "2cf2d842",
   "metadata": {},
   "outputs": [
    {
     "name": "stdout",
     "output_type": "stream",
     "text": [
      "[[460 486 341 594 464]\n",
      " [551 297 396 504 459]\n",
      " [480 407 286 600 286]]\n"
     ]
    }
   ],
   "source": [
    "print(np.sum(array_mult,axis=0))"
   ]
  },
  {
   "cell_type": "code",
   "execution_count": null,
   "id": "c4037f6c",
   "metadata": {},
   "outputs": [],
   "source": []
  }
 ],
 "metadata": {
  "kernelspec": {
   "display_name": "Python 3 (ipykernel)",
   "language": "python",
   "name": "python3"
  },
  "language_info": {
   "codemirror_mode": {
    "name": "ipython",
    "version": 3
   },
   "file_extension": ".py",
   "mimetype": "text/x-python",
   "name": "python",
   "nbconvert_exporter": "python",
   "pygments_lexer": "ipython3",
   "version": "3.9.13"
  }
 },
 "nbformat": 4,
 "nbformat_minor": 5
}
